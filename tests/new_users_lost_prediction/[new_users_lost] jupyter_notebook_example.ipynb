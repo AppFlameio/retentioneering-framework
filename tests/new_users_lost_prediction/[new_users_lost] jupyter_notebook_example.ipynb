{
 "cells": [
  {
   "cell_type": "markdown",
   "metadata": {},
   "source": [
    "# Description"
   ]
  },
  {
   "cell_type": "markdown",
   "metadata": {},
   "source": [
    "__Цель__\n",
    "\n",
    "Хотим понять места в приложении, которые непонятны пользователю и провоцируют его уход без регистрации.\n",
    "\n",
    "__Задачи__\n",
    "\n",
    "1. Собрать необходимые данные\n",
    "2. Подготовить данные для аналитики\n",
    "3. Провести анализ\n",
    "    1. Построить сводные таблицы\n",
    "    2. Визуализировать траектории\n",
    "    3. Построить классификатор\n",
    "        1. Помогает выделить специфичные для конкретной группы траектории\n",
    "        2. Позволяет по текущей траектории оценить вероятность ухода пользователя, например, чтобы динамически менять контент приложения, чтобы люди оставались\n",
    "\n",
    "__Ожидаемые результаты__\n",
    "\n",
    "1. Узнать наиболее проблемные участки приложения, чтобы предотвратить уход юзеров\n",
    "2. Получить классификатор, который позволит предсказывать уход пользователя по тому, как он использует приложение"
   ]
  },
  {
   "cell_type": "markdown",
   "metadata": {},
   "source": [
    "# Download data"
   ]
  },
  {
   "cell_type": "code",
   "execution_count": null,
   "metadata": {},
   "outputs": [],
   "source": [
    "import retentioneering\n",
    "from retentioneering.utils import download_events, download_events_multi, preparing"
   ]
  },
  {
   "cell_type": "markdown",
   "metadata": {},
   "source": [
    "Firstly, we need to load a google cloud credentials."
   ]
  },
  {
   "cell_type": "code",
   "execution_count": null,
   "metadata": {},
   "outputs": [],
   "source": [
    "client, job_config = retentioneering.init_from_json('./settings.json')\n",
    "settings = retentioneering.Config('./settings.json')"
   ]
  },
  {
   "cell_type": "markdown",
   "metadata": {},
   "source": [
    "Now we can execute needed query:\n",
    "\n",
    "* user_filter_event_names -- takes only users who had that event\n",
    "* dates_users -- dates where user_filter_event_names was happen\n",
    "* users_app_version -- filter on version\n",
    "* event_filter_event_names -- events in our interest\n",
    "* dates_events -- period of analysis\n",
    "* count_events -- count of first / last events for user"
   ]
  },
  {
   "cell_type": "code",
   "execution_count": null,
   "metadata": {},
   "outputs": [],
   "source": [
    "# df = download_events(\n",
    "#     client,\n",
    "#     job_config=job_config,\n",
    "#     user_filter_event_names=[u'first_open'],\n",
    "#     users_app_version='7.4.2', \n",
    "#     event_filter_event_names=[u'screen_view',\n",
    "#                               u'myFlights_add',\n",
    "#                               u'myFlights_edit',\n",
    "#                               u'myFlights_refresh',\n",
    "#                               u'profile_edit_close',\n",
    "#                               u'tabbar_select_page',\n",
    "#                               u'welcome_see_screen',\n",
    "#                               u'feed_widget_present',\n",
    "#                               u'welcome_login_google',\n",
    "#                               u'welcome_login_tripit',\n",
    "#                               u'welcome__loginFailure',\n",
    "#                               u'feed_ad_canBePresented',\n",
    "#                               u'myFlights_connectEmail',\n",
    "#                               u'myFlights_swipe_action',\n",
    "#                               u'newFlight_myflights_see',\n",
    "#                               u'welcome__chooseLoginType',\n",
    "#                               u'welcome_otherLogin__show',\n",
    "#                               u'newFlight_awardwallet_see',\n",
    "#                               u'welcome_otherLogin__close',\n",
    "#                               u'welcome_login_google_cancel',\n",
    "#                               u'welcome_privacy_policyShown',\n",
    "#                               u'welcome_privacy_policyShown',\n",
    "#                               u'welcome_privacy_policyDecline',\n",
    "#                               u'welcome_privacy_policyDecline',\n",
    "#                               u'welcome_privacy_policyAccepted',\n",
    "#                               u'welcome_privacy_policyAccepted',\n",
    "#                               u'welcome_privacy_policyTapToPolicy',\n",
    "#                               u'feed_widget_aircraft_amenities_saw',\n",
    "#                               u'welcome_otherLogin__chooseLoginType',\n",
    "#                               u'feed_widget_aircraft_noAircraftImage',\n",
    "#                               u'welcome_otherLogin_privacy_policyShown',\n",
    "#                               u'welcome_otherLogin_privacy_policyShown',\n",
    "#                               u'welcome_otherLogin_privacy_policyDecline',\n",
    "#                               u'welcome_otherLogin_privacy_policyDecline',\n",
    "#                               u'welcome_otherLogin_privacy_policyAccepted'], \n",
    "#     dates_users=(u'2018-10-01', u'2018-10-01'), \n",
    "#     dates_events=(u'2018-10-01', u'2018-10-01'), \n",
    "#     count_events=40, \n",
    "#     return_dataframe=True\n",
    "# )"
   ]
  },
  {
   "cell_type": "markdown",
   "metadata": {},
   "source": [
    "Or we can put all of it in `settings['sql']` (you can see example in current directory) and execute query with it"
   ]
  },
  {
   "cell_type": "code",
   "execution_count": null,
   "metadata": {
    "scrolled": true
   },
   "outputs": [],
   "source": [
    "df = download_events_multi(client, job_config=job_config, settings=settings)\n",
    "print 'Downloaded DataFrame shape: {}'.format(df.shape)"
   ]
  },
  {
   "cell_type": "markdown",
   "metadata": {},
   "source": [
    "#### Prepare your dataset for further analysis"
   ]
  },
  {
   "cell_type": "code",
   "execution_count": null,
   "metadata": {
    "scrolled": true
   },
   "outputs": [],
   "source": [
    "# select target users from settings['users']\n",
    "print 'Started DataFrame shape: {}'.format(df.shape)\n",
    "df = preparing.filter_users(df, settings=settings)\n",
    "print 'DataFrame shape after user filters: {}'.format(df.shape)\n",
    "\n",
    "# delete events from settings['events']\n",
    "df = preparing.filter_events(df, settings=settings)\n",
    "print 'DataFrame shape after event filters: {}'.format(df.shape)\n",
    "\n",
    "# drop duplicated events hapenning during settings['events']['duplicate_thr_time']\n",
    "df = preparing.drop_duplicated_events(df, settings=settings)\n",
    "print 'DataFrame shape after drop duplicated events: {}'.format(df.shape)\n",
    "\n",
    "# add passed events from settings['positive_event']\n",
    "df = preparing.add_passed_event(df, settings=settings)\n",
    "print 'DataFrame shape after adding passed events: {}'.format(df.shape)\n",
    "\n",
    "# add lost events from settings['negative_event']\n",
    "df = preparing.add_lost_events(df, settings=settings)\n",
    "print 'DataFrame shape after adding lost events: {}'.format(df.shape)"
   ]
  },
  {
   "cell_type": "markdown",
   "metadata": {},
   "source": [
    "#### Look on first 5 records in prepared dataset"
   ]
  },
  {
   "cell_type": "code",
   "execution_count": null,
   "metadata": {},
   "outputs": [],
   "source": [
    "df.head()"
   ]
  },
  {
   "cell_type": "markdown",
   "metadata": {},
   "source": [
    "#### Save DataFrame if needed"
   ]
  },
  {
   "cell_type": "code",
   "execution_count": null,
   "metadata": {},
   "outputs": [],
   "source": [
    "# choose your path\n",
    "path = '../../data/data_from_bq.csv'\n",
    "df.to_csv(path, sep=';', index=False)"
   ]
  },
  {
   "cell_type": "markdown",
   "metadata": {},
   "source": [
    "# Analysis"
   ]
  },
  {
   "cell_type": "markdown",
   "metadata": {},
   "source": [
    "Now we are ready for analysis"
   ]
  },
  {
   "cell_type": "code",
   "execution_count": null,
   "metadata": {},
   "outputs": [],
   "source": [
    "import pandas as pd\n",
    "path = '../../data_from_bq.csv'\n",
    "df = pd.read_csv(path, sep=';')"
   ]
  },
  {
   "cell_type": "markdown",
   "metadata": {},
   "source": [
    "## Ad-hoc"
   ]
  },
  {
   "cell_type": "code",
   "execution_count": null,
   "metadata": {},
   "outputs": [],
   "source": [
    "from retentioneering import analysis"
   ]
  },
  {
   "cell_type": "markdown",
   "metadata": {},
   "source": [
    "#### Pivot tables of event distribution by user steps"
   ]
  },
  {
   "cell_type": "code",
   "execution_count": null,
   "metadata": {},
   "outputs": [],
   "source": [
    "desc = analysis.get_desc_table(df, settings=settings, plot=True)"
   ]
  },
  {
   "cell_type": "markdown",
   "metadata": {},
   "source": [
    "По горизонтале отображен порядковый номер ивента в траектории.\n",
    "\n",
    "По вертикали -- события приложения.\n",
    "\n",
    "В ячейках отображается доля события на конкретном шаге.\n",
    "\n",
    "1. В таблице видно, что много юзеров уходит сразу же после того, как увидели welcome_see_screen. Это может возникать потому что пользователь ожидал, что сможет сразу начать использовать приложение без регистрации, либо он не увидел желаемый способ авторизации.\n",
    "2. Гипотеза про логин также поддерживается тем, что люди открывают другие способы авторизации\n",
    "\n",
    "По агрегированной таблице сложно сделать более детальный анализ, поэтому разделим выборку на тех, кто ушел сразу и прошел дальше."
   ]
  },
  {
   "cell_type": "markdown",
   "metadata": {},
   "source": [
    "We can split data for `lost` and `passed` users to compare behaviour "
   ]
  },
  {
   "cell_type": "code",
   "execution_count": null,
   "metadata": {
    "scrolled": false
   },
   "outputs": [],
   "source": [
    "lost_users_list = df[df.event_name == 'lost'].user_pseudo_id\n",
    "filt = df.user_pseudo_id.isin(lost_users_list)\n",
    "df_lost = df[filt]\n",
    "df_passed = df[~filt]\n",
    "\n",
    "desc_loss = analysis.get_desc_table(df_lost, settings, plot=True)"
   ]
  },
  {
   "cell_type": "markdown",
   "metadata": {},
   "source": [
    "Теперь становится понятно, что доля пользователь, которые уходят сильно выше, чем 15%.\n",
    "Судя по всему, довольно большая доля пользователей уходит на 6-7 шаге, потому что у них возникают проблемы с логином."
   ]
  },
  {
   "cell_type": "code",
   "execution_count": null,
   "metadata": {},
   "outputs": [],
   "source": [
    "desc_passed = analysis.get_desc_table(df_passed,  settings, plot=True)"
   ]
  },
  {
   "cell_type": "markdown",
   "metadata": {},
   "source": [
    "And plot heatmap of differences"
   ]
  },
  {
   "cell_type": "code",
   "execution_count": null,
   "metadata": {
    "scrolled": false
   },
   "outputs": [],
   "source": [
    "diff_df = analysis.get_diff(desc_loss, desc_passed, settings=settings, precalc=True)"
   ]
  },
  {
   "cell_type": "markdown",
   "metadata": {},
   "source": [
    "Здесь мы видим, что пользователи, которые регистрируются и пользуются дальше приложением сразу же пытаются посмотреть способ логина, прочитать условия использования, чаще с ними соглашаются и в итоге просто логинятся через аккаунт Google."
   ]
  },
  {
   "cell_type": "markdown",
   "metadata": {},
   "source": [
    "We can get aggregates over edges"
   ]
  },
  {
   "cell_type": "code",
   "execution_count": null,
   "metadata": {},
   "outputs": [],
   "source": [
    "agg_list = ['trans_count', 'dt_mean', 'dt_median', 'dt_min', 'dt_max']\n",
    "df_agg = analysis.get_all_agg(df, agg_list)\n",
    "df_agg.head()"
   ]
  },
  {
   "cell_type": "markdown",
   "metadata": {},
   "source": [
    "Здесь мы можем увидеть какие переходы занимают больше всего времени и как часто люди переходят из одного события в другое.\n",
    "\n",
    "Например, выведем 10 в среднем самых долгих переходов."
   ]
  },
  {
   "cell_type": "code",
   "execution_count": null,
   "metadata": {},
   "outputs": [],
   "source": [
    "df_agg.sort_values('dt_mean', ascending=False).head(10)"
   ]
  },
  {
   "cell_type": "markdown",
   "metadata": {},
   "source": [
    "Тут также можно увидеть места, на которых юзеры задерживаются больше всего (разумно смотреть только на те переходы, где достаточно большое количество переходов, потому что такие значения более устойчивы).\n",
    "\n",
    "Например, мы видим, что логин через аккаунт Google занимает достаточно большое время, скорее всего, связано с тем, чтобы вспомнить пароль.\n",
    "\n",
    "Люди долго читают условия использования и тд."
   ]
  },
  {
   "cell_type": "markdown",
   "metadata": {},
   "source": [
    "And adjacency matrix from it"
   ]
  },
  {
   "cell_type": "code",
   "execution_count": null,
   "metadata": {
    "scrolled": false
   },
   "outputs": [],
   "source": [
    "adj_count = analysis.get_adjacency(df_agg, 'trans_count')\n",
    "adj_count"
   ]
  },
  {
   "cell_type": "markdown",
   "metadata": {},
   "source": [
    "Также можно построить простую кластеризацию по частотности событий"
   ]
  },
  {
   "cell_type": "code",
   "execution_count": null,
   "metadata": {},
   "outputs": [],
   "source": [
    "countmap = analysis.utils.plot_frequency_map(df, settings)"
   ]
  },
  {
   "cell_type": "code",
   "execution_count": null,
   "metadata": {},
   "outputs": [],
   "source": [
    "analysis.utils.plot_clusters(df, countmap, n_clusters=5, plot_cnt=2)"
   ]
  },
  {
   "cell_type": "markdown",
   "metadata": {},
   "source": [
    "Мы видим, что по частотность можно разделить выборку на кластеры, которые однозначно отличаются друг от друга по распределению интересующих нас событий. Визуализация траекторий будет в разделе про предиктивную модель."
   ]
  },
  {
   "cell_type": "markdown",
   "metadata": {},
   "source": [
    "# Graph visualization"
   ]
  },
  {
   "cell_type": "markdown",
   "metadata": {},
   "source": [
    "You can visualize your graph in python"
   ]
  },
  {
   "cell_type": "code",
   "execution_count": null,
   "metadata": {
    "scrolled": false
   },
   "outputs": [],
   "source": [
    "analysis.utils.plot_graph_python(df_agg, 'trans_count', settings)"
   ]
  },
  {
   "cell_type": "markdown",
   "metadata": {},
   "source": [
    "Or with our api\n",
    "\n",
    "`Api sends aggregated graph to our server for visualization`"
   ]
  },
  {
   "cell_type": "code",
   "execution_count": null,
   "metadata": {
    "scrolled": false
   },
   "outputs": [],
   "source": [
    "from retentioneering.utils.export import plot_graph_api\n",
    "plot_graph_api(df_lost, settings)"
   ]
  },
  {
   "cell_type": "markdown",
   "metadata": {},
   "source": [
    "# Lost classifier"
   ]
  },
  {
   "cell_type": "markdown",
   "metadata": {},
   "source": [
    "Fit the model"
   ]
  },
  {
   "cell_type": "code",
   "execution_count": null,
   "metadata": {},
   "outputs": [],
   "source": [
    "clf = analysis.Model(df, target_event='lost', settings=settings)\n",
    "clf.fit_model()"
   ]
  },
  {
   "cell_type": "markdown",
   "metadata": {},
   "source": [
    "You can get a simple access to your quality metrics"
   ]
  },
  {
   "cell_type": "code",
   "execution_count": null,
   "metadata": {
    "scrolled": true
   },
   "outputs": [],
   "source": [
    "print 'ROC-AUC: {:.2f}'.format(clf.average_precision_score)\n",
    "print 'PR-AUC: {:.2f}'.format(clf.roc_auc_score)"
   ]
  },
  {
   "cell_type": "markdown",
   "metadata": {},
   "source": [
    "You can predict probabilities for a certain user, even they was not in train data"
   ]
  },
  {
   "cell_type": "code",
   "execution_count": null,
   "metadata": {},
   "outputs": [],
   "source": [
    "# first we need to aggregate events by a user\n",
    "data = analysis.prepare_dataset(df, target_event='lost')\n",
    "# now we can predict probability for her track\n",
    "vec = clf._get_vectors(data.event_name.iloc[:1])\n",
    "clf.predict_proba(vec)"
   ]
  },
  {
   "cell_type": "markdown",
   "metadata": {},
   "source": [
    "You can visualize tsne projection of events vs targets"
   ]
  },
  {
   "cell_type": "code",
   "execution_count": null,
   "metadata": {},
   "outputs": [],
   "source": [
    "clf.plot_projections()"
   ]
  },
  {
   "cell_type": "markdown",
   "metadata": {},
   "source": [
    "Or vs probability from model"
   ]
  },
  {
   "cell_type": "code",
   "execution_count": null,
   "metadata": {},
   "outputs": [],
   "source": [
    "clf.plot_projections(sample=data.event_name.values, ids=data.user_pseudo_id.values)"
   ]
  },
  {
   "cell_type": "markdown",
   "metadata": {},
   "source": [
    "You can select intrested cluster with bbox and visualize track for it"
   ]
  },
  {
   "cell_type": "code",
   "execution_count": null,
   "metadata": {
    "scrolled": false
   },
   "outputs": [],
   "source": [
    "# write coordinates bbox angles\n",
    "\n",
    "bbox = [\n",
    "    [-4, -12],\n",
    "    [8, -26]\n",
    "]\n",
    "\n",
    "clf.plot_cluster_track(bbox)"
   ]
  },
  {
   "cell_type": "code",
   "execution_count": null,
   "metadata": {
    "scrolled": false
   },
   "outputs": [],
   "source": [
    "from matplotlib import pyplot as plt\n",
    "fig = plt.figure(figsize=[10, 10])\n",
    "plt.scatter(clf._cached_tsne[:, 0], clf._cached_tsne[:, 1], c=clf.target)\n",
    "plt.grid()\n",
    "plt.title('TSNE over Tf-Idf transform of user tracks')"
   ]
  },
  {
   "cell_type": "markdown",
   "metadata": {
    "collapsed": true
   },
   "source": [
    "You can highlight major nodes and edges with our api"
   ]
  },
  {
   "cell_type": "code",
   "execution_count": null,
   "metadata": {},
   "outputs": [],
   "source": []
  }
 ],
 "metadata": {
  "kernelspec": {
   "display_name": "Python 2",
   "language": "python",
   "name": "python2"
  },
  "language_info": {
   "codemirror_mode": {
    "name": "ipython",
    "version": 2
   },
   "file_extension": ".py",
   "mimetype": "text/x-python",
   "name": "python",
   "nbconvert_exporter": "python",
   "pygments_lexer": "ipython2",
   "version": "2.7.15rc1"
  }
 },
 "nbformat": 4,
 "nbformat_minor": 2
}
